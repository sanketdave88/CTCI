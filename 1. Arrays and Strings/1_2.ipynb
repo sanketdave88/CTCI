{
 "cells": [
  {
   "cell_type": "markdown",
   "metadata": {},
   "source": [
    "**1.2 Check Permutation**\n",
    "\n",
    "**Given two strings, write a method to decide if one is a permutation of the other.**\n",
    "\n",
    "a = 'sanket'\n",
    "\n",
    "b = 'teknas'"
   ]
  },
  {
   "cell_type": "code",
   "execution_count": 10,
   "metadata": {},
   "outputs": [],
   "source": [
    "def is_permutation(str1, str2):\n",
    "    # Check if lengths are different\n",
    "    if len(str1) != len(str2):\n",
    "        return False\n",
    "    \n",
    "    char_count = [0] * 128\n",
    "    \n",
    "    # Count characters in str1\n",
    "    for char in str1:\n",
    "        char_count[ord(char)] += 1\n",
    "    \n",
    "    # Decrement count for characters in str2\n",
    "    for char in str2:\n",
    "        char_count[ord(char)] -= 1\n",
    "        \n",
    "        # If count goes negative, str2 has more of this character\n",
    "        if char_count[ord(char)] < 0:\n",
    "            return False\n",
    "    \n",
    "    # Check if all counts are zero\n",
    "    return all(count == 0 for count in char_count)\n"
   ]
  },
  {
   "cell_type": "code",
   "execution_count": 11,
   "metadata": {},
   "outputs": [
    {
     "name": "stdout",
     "output_type": "stream",
     "text": [
      "True\n",
      "False\n"
     ]
    }
   ],
   "source": [
    "# Test cases\n",
    "str1 = \"abc\"\n",
    "str2 = \"bca\"\n",
    "print(is_permutation(str1, str2))  # Output: True\n",
    "\n",
    "str1 = \"abc\"\n",
    "str2 = \"def\"\n",
    "print(is_permutation(str1, str2))  # Output: False"
   ]
  }
 ],
 "metadata": {
  "kernelspec": {
   "display_name": "Python 3",
   "language": "python",
   "name": "python3"
  },
  "language_info": {
   "codemirror_mode": {
    "name": "ipython",
    "version": 3
   },
   "file_extension": ".py",
   "mimetype": "text/x-python",
   "name": "python",
   "nbconvert_exporter": "python",
   "pygments_lexer": "ipython3",
   "version": "3.9.13"
  }
 },
 "nbformat": 4,
 "nbformat_minor": 2
}
