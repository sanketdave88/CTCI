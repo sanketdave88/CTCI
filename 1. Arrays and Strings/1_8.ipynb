{
 "cells": [
  {
   "cell_type": "markdown",
   "metadata": {},
   "source": [
    "## 1.8 Zero Matrix \n",
    "\n",
    "Write an algorithm such that if an element in an MxN matrix is 0, its entire row and column are set to 0.\n",
    "\n",
    "Hints:#17, #74, #702"
   ]
  },
  {
   "cell_type": "code",
   "execution_count": 45,
   "metadata": {},
   "outputs": [
    {
     "data": {
      "text/plain": [
       "({2}, {1})"
      ]
     },
     "execution_count": 45,
     "metadata": {},
     "output_type": "execute_result"
    }
   ],
   "source": [
    "def zeroMat(mat):\n",
    "    \n",
    "    m = len(mat)\n",
    "    n = len(mat[0])\n",
    "    position_i = set()\n",
    "    position_j = set()\n",
    "\n",
    "    for i in range(0,m):\n",
    "        for j in range(0,n):\n",
    "            if mat[i][j] == 0:\n",
    "                position_i.add(i)\n",
    "                position_j.add(j)\n",
    "            else:\n",
    "                continue\n",
    "    \n",
    "    \n",
    "\n",
    "    return position_i,position_j\n",
    "\n",
    "zeroMat([[1,2,3],[4,5,6],[7,0,9],[10,11,12]])"
   ]
  },
  {
   "cell_type": "code",
   "execution_count": 36,
   "metadata": {},
   "outputs": [],
   "source": [
    "a = [[1,2,3],[4,5,6],[7,0,9],[10,11,12]]\n"
   ]
  },
  {
   "cell_type": "code",
   "execution_count": 37,
   "metadata": {},
   "outputs": [],
   "source": [
    "m = len(a)"
   ]
  }
 ],
 "metadata": {
  "kernelspec": {
   "display_name": "Python 3",
   "language": "python",
   "name": "python3"
  },
  "language_info": {
   "codemirror_mode": {
    "name": "ipython",
    "version": 3
   },
   "file_extension": ".py",
   "mimetype": "text/x-python",
   "name": "python",
   "nbconvert_exporter": "python",
   "pygments_lexer": "ipython3",
   "version": "3.9.13"
  }
 },
 "nbformat": 4,
 "nbformat_minor": 2
}
