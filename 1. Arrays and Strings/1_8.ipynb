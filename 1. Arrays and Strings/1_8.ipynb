{
 "cells": [
  {
   "cell_type": "markdown",
   "metadata": {},
   "source": [
    "## 1.8 Zero Matrix \n",
    "\n",
    "Write an algorithm such that if an element in an MxN matrix is 0, its entire row and column are set to 0.\n",
    "\n",
    "Hints:#17, #74, #702"
   ]
  },
  {
   "cell_type": "markdown",
   "metadata": {},
   "source": [
    "### Version 1"
   ]
  },
  {
   "cell_type": "code",
   "execution_count": 32,
   "metadata": {},
   "outputs": [],
   "source": [
    "def zeroMat(mat):\n",
    "    \n",
    "    # le the length of the matrix to get the dimension\n",
    "    m = len(mat)\n",
    "    n = len(mat[0])\n",
    "\n",
    "    # store position of i,j where the value is 0\n",
    "    position_i = set()\n",
    "    position_j = set()\n",
    "\n",
    "    # loop through each position of matrix to store the positions where value is 0\n",
    "    for i in range(0,m):\n",
    "        for j in range(0,n):\n",
    "            if mat[i][j] == 0:\n",
    "                position_i.add(i)\n",
    "                position_j.add(j)\n",
    "            else:\n",
    "                continue\n",
    "\n",
    "    # convert the set to list\n",
    "    list_i = list(position_i)\n",
    "    list_j = list(position_j)\n",
    "\n",
    "    # iterate through loop and set the row and column to zero\n",
    "    for a,b in zip(list_i,list_j):\n",
    "        for i in range(0,m):\n",
    "            for j in range(0,n):\n",
    "                if i == a or j == b:\n",
    "                    mat[i][j] = 0\n",
    "                else:\n",
    "                    continue\n",
    "\n",
    "    return mat"
   ]
  },
  {
   "cell_type": "code",
   "execution_count": 33,
   "metadata": {},
   "outputs": [
    {
     "data": {
      "text/plain": [
       "[[0, 0, 3], [0, 0, 0], [0, 0, 0], [0, 0, 12]]"
      ]
     },
     "execution_count": 33,
     "metadata": {},
     "output_type": "execute_result"
    }
   ],
   "source": [
    "zeroMat([[1,2,3],\n",
    "         [0,5,6],\n",
    "         [7,0,9],\n",
    "         [10,11,12]])"
   ]
  },
  {
   "cell_type": "markdown",
   "metadata": {},
   "source": [
    "### Version 2"
   ]
  },
  {
   "cell_type": "code",
   "execution_count": 34,
   "metadata": {},
   "outputs": [],
   "source": [
    "def nullifyRow(mat,row):\n",
    "    for j in range(len(mat[0])):\n",
    "        mat[row][j] = 0\n",
    "    return\n",
    "\n",
    "def nullifyCol(mat, col):\n",
    "    for i in range(len(mat)):\n",
    "        mat[i][col] = 0\n",
    "    return\n",
    "\n",
    "def zeroMat(mat):\n",
    "    \n",
    "    # le the length of the matrix to get the dimension\n",
    "    m = len(mat)\n",
    "    n = len(mat[0])\n",
    "\n",
    "    # store position of i,j where the value is 0\n",
    "    zero_row = set()\n",
    "    zero_col = set()\n",
    "\n",
    "    # loop through each position of matrix to store the positions where value is 0\n",
    "    for i in range(0,m):\n",
    "        for j in range(0,n):\n",
    "            if mat[i][j] == 0:\n",
    "                zero_row.add(i)\n",
    "                zero_col.add(j)\n",
    "            else:\n",
    "                continue\n",
    "\n",
    "    # Nullify Rows\n",
    "    for i in zero_row:\n",
    "        nullifyRow(mat,i)\n",
    "\n",
    "    # Nullify Cols\n",
    "    for j in zero_col:\n",
    "        nullifyCol(mat,j)\n",
    "\n",
    "    return mat\n",
    "\n"
   ]
  },
  {
   "cell_type": "code",
   "execution_count": 35,
   "metadata": {},
   "outputs": [
    {
     "data": {
      "text/plain": [
       "[[0, 0, 3], [0, 0, 0], [0, 0, 0], [0, 0, 12]]"
      ]
     },
     "execution_count": 35,
     "metadata": {},
     "output_type": "execute_result"
    }
   ],
   "source": [
    "zeroMat([[1,2,3],\n",
    "         [0,5,6],\n",
    "         [7,0,9],\n",
    "         [10,11,12]])"
   ]
  },
  {
   "cell_type": "markdown",
   "metadata": {},
   "source": [
    "### Version 3 (Optimized)"
   ]
  },
  {
   "cell_type": "code",
   "execution_count": 36,
   "metadata": {},
   "outputs": [
    {
     "name": "stdout",
     "output_type": "stream",
     "text": [
      "Original Matrix:\n",
      "[1, 2, 3]\n",
      "[0, 5, 6]\n",
      "[7, 0, 9]\n",
      "[10, 11, 12]\n",
      "Modified Matrix:\n",
      "[0, 0, 3]\n",
      "[0, 0, 0]\n",
      "[0, 0, 0]\n",
      "[0, 0, 12]\n"
     ]
    }
   ],
   "source": [
    "def zeroMat(mat):\n",
    "    # Return the matrix as is if it's empty or null\n",
    "    if not mat or not mat[0]:\n",
    "        return mat\n",
    "\n",
    "    # Get matrix dimensions\n",
    "    m, n = len(mat), len(mat[0])\n",
    "    \n",
    "    # Boolean arrays to mark rows and columns to be zeroed\n",
    "    zero_row = [False] * m\n",
    "    zero_col = [False] * n\n",
    "\n",
    "    # Find all zeros in the matrix and mark their rows and columns\n",
    "    for i in range(m):\n",
    "        for j in range(n):\n",
    "            if mat[i][j] == 0:\n",
    "                zero_row[i] = True\n",
    "                zero_col[j] = True\n",
    "\n",
    "    # Check for early exit if all rows and columns are marked\n",
    "    if all(zero_row) and all(zero_col):\n",
    "        # If every row and column is marked, set all entries to zero\n",
    "        for i in range(m):\n",
    "            for j in range(n):\n",
    "                mat[i][j] = 0\n",
    "        return mat\n",
    "\n",
    "    # Nullify marked rows\n",
    "    for i in range(m):\n",
    "        if zero_row[i]:\n",
    "            for j in range(n):\n",
    "                mat[i][j] = 0\n",
    "\n",
    "    # Nullify marked columns\n",
    "    for j in range(n):\n",
    "        if zero_col[j]:\n",
    "            for i in range(m):\n",
    "                mat[i][j] = 0\n",
    "\n",
    "    # Return the modified matrix\n",
    "    return mat\n",
    "\n",
    "# Example usage\n",
    "matrix = [[1,2,3],\n",
    "          [0,5,6],\n",
    "          [7,0,9],\n",
    "          [10,11,12]]\n",
    "\n",
    "# Print the matrix before modification\n",
    "print(\"Original Matrix:\")\n",
    "for row in matrix:\n",
    "    print(row)\n",
    "\n",
    "# Apply the zeroMat function\n",
    "zeroMat(matrix)\n",
    "\n",
    "# Print the modified matrix\n",
    "print(\"Modified Matrix:\")\n",
    "for row in matrix:\n",
    "    print(row)\n"
   ]
  }
 ],
 "metadata": {
  "kernelspec": {
   "display_name": "Python 3",
   "language": "python",
   "name": "python3"
  },
  "language_info": {
   "codemirror_mode": {
    "name": "ipython",
    "version": 3
   },
   "file_extension": ".py",
   "mimetype": "text/x-python",
   "name": "python",
   "nbconvert_exporter": "python",
   "pygments_lexer": "ipython3",
   "version": "3.9.13"
  }
 },
 "nbformat": 4,
 "nbformat_minor": 2
}
