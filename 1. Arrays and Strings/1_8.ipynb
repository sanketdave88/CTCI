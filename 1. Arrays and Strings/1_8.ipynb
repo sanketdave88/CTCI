{
 "cells": [
  {
   "cell_type": "markdown",
   "metadata": {},
   "source": [
    "## 1.8 Zero Matrix \n",
    "\n",
    "Write an algorithm such that if an element in an MxN matrix is 0, its entire row and column are set to 0.\n",
    "\n",
    "Hints:#17, #74, #702"
   ]
  },
  {
   "cell_type": "code",
   "execution_count": 11,
   "metadata": {},
   "outputs": [
    {
     "data": {
      "text/plain": [
       "[[0, 0, 3], [0, 0, 0], [0, 0, 0], [0, 0, 12]]"
      ]
     },
     "execution_count": 11,
     "metadata": {},
     "output_type": "execute_result"
    }
   ],
   "source": [
    "def zeroMat(mat):\n",
    "    \n",
    "    # le the length of the matrix to get the dimension\n",
    "    m = len(mat)\n",
    "    n = len(mat[0])\n",
    "\n",
    "    # store position of i,j where the value is 0\n",
    "    position_i = set()\n",
    "    position_j = set()\n",
    "\n",
    "    # loop through each position of matrix to store the positions where value is 0\n",
    "    for i in range(0,m):\n",
    "        for j in range(0,n):\n",
    "            if mat[i][j] == 0:\n",
    "                position_i.add(i)\n",
    "                position_j.add(j)\n",
    "            else:\n",
    "                continue\n",
    "\n",
    "    # convert the set to list\n",
    "    list_i = list(position_i)\n",
    "    list_j = list(position_j)\n",
    "\n",
    "    # iterate through loop and set the row and column to zero\n",
    "    for a,b in zip(list_i,list_j):\n",
    "        for i in range(0,m):\n",
    "            for j in range(0,n):\n",
    "                if i == a or j == b:\n",
    "                    mat[i][j] = 0\n",
    "                else:\n",
    "                    continue\n",
    "\n",
    "\n",
    "    return mat\n",
    "\n",
    "\n",
    "zeroMat([[1,2,3],\n",
    "         [0,5,6],\n",
    "         [7,0,9],\n",
    "         [10,11,12]])"
   ]
  },
  {
   "cell_type": "code",
   "execution_count": 36,
   "metadata": {},
   "outputs": [],
   "source": [
    "a = [[1,2,3],[4,5,6],[7,0,9],[10,11,12]]\n"
   ]
  },
  {
   "cell_type": "code",
   "execution_count": 37,
   "metadata": {},
   "outputs": [],
   "source": [
    "m = len(a)"
   ]
  }
 ],
 "metadata": {
  "kernelspec": {
   "display_name": "Python 3",
   "language": "python",
   "name": "python3"
  },
  "language_info": {
   "codemirror_mode": {
    "name": "ipython",
    "version": 3
   },
   "file_extension": ".py",
   "mimetype": "text/x-python",
   "name": "python",
   "nbconvert_exporter": "python",
   "pygments_lexer": "ipython3",
   "version": "3.9.13"
  }
 },
 "nbformat": 4,
 "nbformat_minor": 2
}
