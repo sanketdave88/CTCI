{
 "cells": [
  {
   "cell_type": "markdown",
   "metadata": {},
   "source": [
    "## 1.7 Rotate Matrix \n",
    "\n",
    "Given an image represented by an NxN matrix, where each pixel in the image is 4 bytes, write a method to rotate the image by 90 degrees. Can you do this in place?\n",
    "\n",
    "Hints:#51, #100"
   ]
  },
  {
   "cell_type": "code",
   "execution_count": 1,
   "metadata": {},
   "outputs": [
    {
     "name": "stdout",
     "output_type": "stream",
     "text": [
      "[[13, 7, 4, 1], [14, 8, 5, 2], [15, 9, 6, 3], [16, 12, 11, 10]]\n"
     ]
    }
   ],
   "source": [
    "def rotmat(mat):\n",
    "    \"\"\"\n",
    "    Rotate a given 2D list (matrix) 90 degrees clockwise.\n",
    "    \"\"\"\n",
    "    # Transpose the matrix\n",
    "    n = len(mat)\n",
    "    for i in range(n):\n",
    "        for j in range(i + 1, n):\n",
    "            mat[i][j], mat[j][i] = mat[j][i], mat[i][j]\n",
    "    \n",
    "    # Reverse each row\n",
    "    for i in range(n):\n",
    "        mat[i] = mat[i][::-1]\n",
    "\n",
    "    return mat\n",
    "\n",
    "# Test the function using 4x4 matrix\n",
    "rotated_matrix = rotmat([[1,2,3,10], [4,5,6,11], [7,8,9,12],[13,14,15,16]])\n",
    "print(rotated_matrix)"
   ]
  }
 ],
 "metadata": {
  "kernelspec": {
   "display_name": "Python 3",
   "language": "python",
   "name": "python3"
  },
  "language_info": {
   "codemirror_mode": {
    "name": "ipython",
    "version": 3
   },
   "file_extension": ".py",
   "mimetype": "text/x-python",
   "name": "python",
   "nbconvert_exporter": "python",
   "pygments_lexer": "ipython3",
   "version": "3.9.13"
  }
 },
 "nbformat": 4,
 "nbformat_minor": 2
}
