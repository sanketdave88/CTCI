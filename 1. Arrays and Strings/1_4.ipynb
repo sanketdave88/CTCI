{
 "cells": [
  {
   "cell_type": "markdown",
   "metadata": {},
   "source": [
    "## 1.4 Palindrome Permutation\n",
    "\n",
    "Given a string write a function to check if it is permutation of a palindrome.\n",
    "\n",
    "str = 'safdads'"
   ]
  },
  {
   "cell_type": "code",
   "execution_count": 66,
   "metadata": {},
   "outputs": [],
   "source": [
    "def permutations(s):\n",
    "    # base case\n",
    "    if len(s) == 0:\n",
    "        return set(), []\n",
    "    if len(s) == 1:\n",
    "        return {s}, [s] if s == s[::-1] else []\n",
    "    \n",
    "    # gets the last character of string in each iteration\n",
    "    last_char = s[-1]\n",
    "\n",
    "    # recursion\n",
    "    sub_perms, sub_palindromes = permutations(s[:-1])\n",
    "    \n",
    "    # initialize empty sets\n",
    "    palindromes = set()\n",
    "    new_perms = set()\n",
    "    \n",
    "    for perm in sub_perms:\n",
    "        for i in range(len(perm) + 1):\n",
    "            \n",
    "            # insert the last_char at each position\n",
    "            x = (perm[:i] + last_char + perm[i:]) \n",
    "\n",
    "            # palindrome check\n",
    "            if x == x[::-1]:\n",
    "                palindromes.add(x)\n",
    "\n",
    "            # add to set\n",
    "            new_perms.add(x)\n",
    "    \n",
    "    return new_perms, palindromes"
   ]
  },
  {
   "cell_type": "code",
   "execution_count": 67,
   "metadata": {},
   "outputs": [
    {
     "name": "stdout",
     "output_type": "stream",
     "text": [
      "Permutations: {'bbaa', 'baab', 'abba', 'abab', 'baba', 'aabb'}\n",
      "Palindromes: {'baab', 'abba'}\n"
     ]
    }
   ],
   "source": [
    "perms, pali = permutations('abba')\n",
    "print(\"Permutations:\", perms)\n",
    "print(\"Palindromes:\", pali)"
   ]
  },
  {
   "cell_type": "markdown",
   "metadata": {},
   "source": [
    "B - Bottlenecks\n",
    "- can we reduce the computation in for loop that it does not even repeat the same string that has been generated\n",
    "\n",
    "\n",
    "U - Unneccesary computations\n",
    "\n",
    "\n",
    "\n",
    "D - Duplicate code"
   ]
  },
  {
   "cell_type": "code",
   "execution_count": 1,
   "metadata": {},
   "outputs": [
    {
     "name": "stdout",
     "output_type": "stream",
     "text": [
      "True\n",
      "True\n",
      "False\n",
      "True\n",
      "True\n"
     ]
    }
   ],
   "source": [
    "\n",
    "def ifPermutation(string1):\n",
    "   \n",
    "    string1 = string1.replace(\" \", \"\").lower()\n",
    " \n",
    "    dict = {}\n",
    "    for i in string1:\n",
    "        if i in dict:\n",
    "            dict[i] += 1\n",
    "        else:\n",
    "            dict.update({i : 1})\n",
    "    # print(dict)\n",
    " \n",
    "    count = 0\n",
    "    for j in dict:\n",
    "        stored_value = dict.get(j)\n",
    "        # print(stored_value)\n",
    "        if stored_value % 2 != 0:\n",
    "            count += 1\n",
    "    if count > 1:\n",
    "        return False\n",
    "    else:\n",
    "        return True\n",
    "   \n",
    "print(ifPermutation(\"Able was I ere I saw Elba\"))\n",
    "print(ifPermutation(\"racecar\"))                  \n",
    "print(ifPermutation(\"hello\"))                    \n",
    "print(ifPermutation(\"1221\"))                      \n",
    "print(ifPermutation(\"aabbcc\"))                    "
   ]
  }
 ],
 "metadata": {
  "kernelspec": {
   "display_name": "Python 3",
   "language": "python",
   "name": "python3"
  },
  "language_info": {
   "codemirror_mode": {
    "name": "ipython",
    "version": 3
   },
   "file_extension": ".py",
   "mimetype": "text/x-python",
   "name": "python",
   "nbconvert_exporter": "python",
   "pygments_lexer": "ipython3",
   "version": "3.9.13"
  }
 },
 "nbformat": 4,
 "nbformat_minor": 2
}
