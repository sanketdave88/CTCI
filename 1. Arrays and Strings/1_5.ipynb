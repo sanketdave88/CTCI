{
 "cells": [
  {
   "cell_type": "markdown",
   "metadata": {},
   "source": [
    "## 1.5 One Away\n",
    "\n",
    "There are three types of edits that can be performed on strings: insert a character, remove a character, or replace a character. Given two strings, write a function to check if they are one edit (or zero edits) away.\n",
    "\n",
    "EXAMPLE:\n",
    "- pale, ple -> true \n",
    "- pales, pale -> true \n",
    "- pale, bale -> true \n",
    "- pale, bake -> false \n",
    "\n",
    "Hints:#23, #97, #130\n"
   ]
  },
  {
   "cell_type": "code",
   "execution_count": 41,
   "metadata": {},
   "outputs": [],
   "source": [
    "def one_away(s1, s2):\n",
    "    # Check if the lengths differ by more than 1\n",
    "    if abs(len(s1) - len(s2)) > 1:\n",
    "        return False\n",
    "    \n",
    "    # make sure s1 is the shorter string\n",
    "    if len(s1) > len(s2):\n",
    "        s1, s2 = s2, s1\n",
    "    \n",
    "    i, j = 0, 0\n",
    "    found_difference = False\n",
    "    \n",
    "    while i < len(s1) and j < len(s2):\n",
    "        if s1[i] != s2[j]:\n",
    "            # If this is the first difference found\n",
    "            if found_difference:\n",
    "                return False\n",
    "            \n",
    "            found_difference = True\n",
    "            \n",
    "            # If the lengths are the same, move both pointers\n",
    "            if len(s1) == len(s2):\n",
    "                i += 1\n",
    "        else:\n",
    "            i += 1  # Move shorter pointer if characters are the same\n",
    "            \n",
    "        j += 1  # Always move pointer for longer string\n",
    "        \n",
    "    return "
   ]
  },
  {
   "cell_type": "code",
   "execution_count": 42,
   "metadata": {},
   "outputs": [
    {
     "name": "stdout",
     "output_type": "stream",
     "text": [
      "True\n",
      "True\n",
      "True\n",
      "False\n"
     ]
    }
   ],
   "source": [
    "# Test cases\n",
    "print(one_away(\"pale\", \"ple\"))   \n",
    "print(one_away(\"pales\", \"pale\"))  \n",
    "print(one_away(\"pale\", \"bale\"))   \n",
    "print(one_away(\"pale\", \"bake\"))   "
   ]
  }
 ],
 "metadata": {
  "kernelspec": {
   "display_name": "Python 3",
   "language": "python",
   "name": "python3"
  },
  "language_info": {
   "codemirror_mode": {
    "name": "ipython",
    "version": 3
   },
   "file_extension": ".py",
   "mimetype": "text/x-python",
   "name": "python",
   "nbconvert_exporter": "python",
   "pygments_lexer": "ipython3",
   "version": "3.9.13"
  }
 },
 "nbformat": 4,
 "nbformat_minor": 2
}
