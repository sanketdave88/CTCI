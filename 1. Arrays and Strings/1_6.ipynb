{
 "cells": [
  {
   "cell_type": "markdown",
   "metadata": {},
   "source": [
    "## 1.6 String Compression\n",
    "\n",
    "Implement a method to perform basic string compression using the counts of repeated characters. For example, the string aabcccccaaa would become a2blc5a3. If the \"compressed\" string would not become smaller than the original string, your method should return the original string. You can assume the string has only uppercase and lowercase letters (a - z).\n",
    "\n",
    "Hints:#92, #110"
   ]
  },
  {
   "cell_type": "markdown",
   "metadata": {},
   "source": [
    "#### Version 1"
   ]
  },
  {
   "cell_type": "code",
   "execution_count": 44,
   "metadata": {},
   "outputs": [
    {
     "name": "stdout",
     "output_type": "stream",
     "text": [
      "sanket\n",
      "a1b1c1d2e2f3g4h5i2j4k4l3n1r2s2t1u2v1w1x1y1\n"
     ]
    }
   ],
   "source": [
    "# x - base case: if the compressed string would not become smaller than the original string, your method should return the original string\n",
    "# x - iterate through the string\n",
    "# x - convert each character in str to ascii value\n",
    "# x - store the count of that ascii value in the 0 list that got geenrated with the index as ascii number\n",
    "# x - increase the count for each occurance\n",
    "# x - other for loop iterates over the char_cnt list and converts each index whose value is non-zero\n",
    "# x - concatenates the ascii value with the value on that index and concatenates it to the main string\n",
    "\n",
    "def strComp(s):\n",
    "\n",
    "    # making a list initialized to 0\n",
    "    char_cnt = [0] * 128\n",
    "    eStr = ''\n",
    "\n",
    "    # base case\n",
    "    uniqueChars = len(set(list(s)))\n",
    "    if uniqueChars == len(s):\n",
    "        return s\n",
    "\n",
    "    # iterating over string 's' and increasing the counter by 1 for each occurance of a character in string\n",
    "    for i in range(len(s)): #O(N)\n",
    "        char_cnt[ord(s[i])] += 1\n",
    "\n",
    "    # iterating over that char_cnt list and getting the count of each character and appending it into a whole single string\n",
    "    for j in range(len(char_cnt)): #O(N)\n",
    "        if char_cnt[j] != 0:\n",
    "            eStr += str(chr(j)) + str(char_cnt[j])\n",
    "\n",
    "    return eStr\n",
    "            \n",
    "print(strComp('sanket'))\n",
    "print(strComp('hfgasdjklhgfieugrhreyuwitjklcxnbvskljhgdfkjh'))"
   ]
  },
  {
   "cell_type": "markdown",
   "metadata": {},
   "source": [
    "#### Version 2\n",
    "\n",
    "Implementing using dictionary"
   ]
  },
  {
   "cell_type": "code",
   "execution_count": null,
   "metadata": {},
   "outputs": [],
   "source": []
  }
 ],
 "metadata": {
  "kernelspec": {
   "display_name": "Python 3",
   "language": "python",
   "name": "python3"
  },
  "language_info": {
   "codemirror_mode": {
    "name": "ipython",
    "version": 3
   },
   "file_extension": ".py",
   "mimetype": "text/x-python",
   "name": "python",
   "nbconvert_exporter": "python",
   "pygments_lexer": "ipython3",
   "version": "3.9.13"
  }
 },
 "nbformat": 4,
 "nbformat_minor": 2
}
