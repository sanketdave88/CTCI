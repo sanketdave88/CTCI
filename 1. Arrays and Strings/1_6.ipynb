{
 "cells": [
  {
   "cell_type": "markdown",
   "metadata": {},
   "source": [
    "## 1.6 String Compression\n",
    "\n",
    "Implement a method to perform basic string compression using the counts of repeated characters. For example, the string aabcccccaaa would become a2blc5a3. If the \"compressed\" string would not become smaller than the original string, your method should return the original string. You can assume the string has only uppercase and lowercase letters (a - z).\n",
    "\n",
    "Hints:#92, #110"
   ]
  },
  {
   "cell_type": "markdown",
   "metadata": {},
   "source": [
    "#### Version 1"
   ]
  },
  {
   "cell_type": "code",
   "execution_count": 1,
   "metadata": {},
   "outputs": [],
   "source": [
    "# x - base case: if the compressed string would not become smaller than the original string, your method should return the original string\n",
    "# x - iterate through the string\n",
    "# x - convert each character in str to ascii value\n",
    "# x - store the count of that ascii value in the 0 list that got geenrated with the index as ascii number\n",
    "# x - increase the count for each occurance\n",
    "# x - other for loop iterates over the char_cnt list and converts each index whose value is non-zero\n",
    "# x - concatenates the ascii value with the value on that index and concatenates it to the main string"
   ]
  },
  {
   "cell_type": "code",
   "execution_count": null,
   "metadata": {},
   "outputs": [
    {
     "name": "stdout",
     "output_type": "stream",
     "text": [
      "sanket\n",
      "a1b1c1d2e2f3g4h5i2j4k4l3n1r2s2t1u2v1w1x1y1\n"
     ]
    }
   ],
   "source": [
    "\n",
    "\n",
    "def strComp(s):\n",
    "\n",
    "    # making a list initialized to 0\n",
    "    char_cnt = [0] * 128\n",
    "    eStr = ''\n",
    "\n",
    "    # base case\n",
    "    uniqueChars = len(set(list(s)))\n",
    "    if uniqueChars == len(s):\n",
    "        return s\n",
    "\n",
    "    # iterating over string 's' and increasing the counter by 1 for each occurance of a character in string\n",
    "    for i in range(len(s)): #O(N)\n",
    "        char_cnt[ord(s[i])] += 1\n",
    "\n",
    "    # iterating over that char_cnt list and getting the count of each character and appending it into a whole single string\n",
    "    for j in range(len(char_cnt)): #O(N)\n",
    "        if char_cnt[j] != 0:\n",
    "            eStr += str(chr(j)) + str(char_cnt[j])\n",
    "\n",
    "    return eStr\n",
    "            \n",
    "print(strComp('sanket'))\n",
    "print(strComp('hfgasdjklhgfieugrhreyuwitjklcxnbvskljhgdfkjh'))"
   ]
  },
  {
   "cell_type": "markdown",
   "metadata": {},
   "source": [
    "But the aboce method prints only the occurances of each character, whereas we want the compression such that it does not loose the meaning.\n",
    "\n",
    "So moving onto our next version\n",
    "\n",
    "#### Version 2"
   ]
  },
  {
   "cell_type": "code",
   "execution_count": 109,
   "metadata": {},
   "outputs": [
    {
     "name": "stdout",
     "output_type": "stream",
     "text": [
      "a3b4c2d2a3c2d3\n",
      "s1a1n1k1e1t1\n"
     ]
    }
   ],
   "source": [
    "# iterate through the string\n",
    "# if there are any consecutive alphbets then increase the count for each alphabet that is equal to the previous one\n",
    "# if the current alphabet is not equal to the previous one append the previous count to the output string and initiate the count's value to 1\n",
    "\n",
    "def strComp(s):\n",
    "    cnt = 1\n",
    "    opStr = ''\n",
    "\n",
    "    for i in range(1, len(s)):\n",
    "        \n",
    "        if s[i] != s[i-1]:\n",
    "            opStr = opStr + s[i-1] + str(cnt)\n",
    "            cnt = 1\n",
    "        else:\n",
    "            cnt += 1\n",
    "        \n",
    "    opStr += s[-1] + str(cnt)\n",
    "\n",
    "    return opStr\n",
    "\n",
    "print(strComp('aaabbbbccddaaaccddd'))\n",
    "print(strComp(\"sanket\")) # we dont want the count for these types of strings as all the characters are unique"
   ]
  },
  {
   "cell_type": "markdown",
   "metadata": {},
   "source": [
    "#### Optimizations Made:\n",
    "- **Reduced Bottlenecks:** By using a list and .join() for the final string assembly, we minimize the overhead caused by repeated string concatenation. This is because lists in Python are mutable, and appending to a list is generally faster than string concatenation.\n",
    "\n",
    "- **Reduced Unnecessary Work:** The conditional addition of counts (only adding when count > 1) is maintained, and we directly build the final string only once.\n",
    "\n",
    "- **Avoided Duplicated Work:** We eliminated any post-loop length comparisons by integrating this directly into the return statement, ensuring we build and compare only once.\n",
    "\n",
    "#### Optimized Code (Final Version)"
   ]
  },
  {
   "cell_type": "code",
   "execution_count": 110,
   "metadata": {},
   "outputs": [
    {
     "name": "stdout",
     "output_type": "stream",
     "text": [
      "sanket\n",
      "a2b2c2d2\n",
      "abcd\n"
     ]
    }
   ],
   "source": [
    "def strComp(s):\n",
    "    if not s:\n",
    "        return s\n",
    "\n",
    "    # Using a list to collect parts of the output string to reduce the creation of new strings (avoids bottleneck of string concatenation)\n",
    "    parts = []\n",
    "    count = 1\n",
    "\n",
    "    # Iterate through the string to process each character exactly once\n",
    "    for i in range(1, len(s)):\n",
    "        if s[i] != s[i-1]:\n",
    "            parts.append(s[i-1] + (str(count) if count > 1 else ''))\n",
    "            count = 1\n",
    "        else:\n",
    "            count += 1\n",
    "\n",
    "    # Append the last group\n",
    "    parts.append(s[-1] + (str(count) if count > 1 else ''))\n",
    "\n",
    "    # Join all parts into the final string\n",
    "    opStr = ''.join(parts)\n",
    "    \n",
    "    # Return compressed string\n",
    "    return opStr \n",
    "\n",
    "# Testing the optimized function\n",
    "print(strComp(\"sanket\"))   \n",
    "print(strComp(\"aabbccdd\")) \n",
    "print(strComp(\"abcd\"))     \n"
   ]
  }
 ],
 "metadata": {
  "kernelspec": {
   "display_name": "Python 3",
   "language": "python",
   "name": "python3"
  },
  "language_info": {
   "codemirror_mode": {
    "name": "ipython",
    "version": 3
   },
   "file_extension": ".py",
   "mimetype": "text/x-python",
   "name": "python",
   "nbconvert_exporter": "python",
   "pygments_lexer": "ipython3",
   "version": "3.9.13"
  }
 },
 "nbformat": 4,
 "nbformat_minor": 2
}
