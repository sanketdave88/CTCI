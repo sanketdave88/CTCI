{
 "cells": [
  {
   "cell_type": "code",
   "execution_count": null,
   "metadata": {},
   "outputs": [],
   "source": [
    "# write a program to print all the permutation of a string\n",
    "\n",
    "example : 'abcd'"
   ]
  },
  {
   "cell_type": "code",
   "execution_count": 8,
   "metadata": {},
   "outputs": [
    {
     "name": "stdout",
     "output_type": "stream",
     "text": [
      "{'asha', 'hsaa', 'ahsa', 'saah', 'aahs', 'shaa', 'ahas', 'saha', 'hasa', 'aash', 'asah', 'haas'}\n"
     ]
    }
   ],
   "source": [
    "def permutations(s):\n",
    "    if len(s) == 0:\n",
    "        return []\n",
    "    if len(s) == 1:\n",
    "        return [s]\n",
    "    \n",
    "    last_char = s[-1]\n",
    "    sub_perms = permutations(s[:-1])\n",
    "    \n",
    "    new_perms = []\n",
    "    for perm in sub_perms:\n",
    "        for i in range(len(perm) + 1):\n",
    "            new_perms.append(perm[:i] + last_char + perm[i:])\n",
    "\n",
    "    return new_perms\n",
    "\n",
    "print(set(permutations('haas')))\n"
   ]
  },
  {
   "cell_type": "code",
   "execution_count": null,
   "metadata": {},
   "outputs": [],
   "source": []
  }
 ],
 "metadata": {
  "kernelspec": {
   "display_name": "Python 3",
   "language": "python",
   "name": "python3"
  },
  "language_info": {
   "codemirror_mode": {
    "name": "ipython",
    "version": 3
   },
   "file_extension": ".py",
   "mimetype": "text/x-python",
   "name": "python",
   "nbconvert_exporter": "python",
   "pygments_lexer": "ipython3",
   "version": "3.9.13"
  }
 },
 "nbformat": 4,
 "nbformat_minor": 2
}
