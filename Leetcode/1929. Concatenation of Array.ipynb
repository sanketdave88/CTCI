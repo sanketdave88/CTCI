{
 "cells": [
  {
   "cell_type": "code",
   "execution_count": null,
   "metadata": {},
   "outputs": [],
   "source": [
    "class Solution(object):\n",
    "    def getConcatenation(self, nums):\n",
    "        \"\"\"\n",
    "        :type nums: List[int]\n",
    "        :rtype: List[int]\n",
    "        \"\"\"\n",
    "        ans = nums + nums\n",
    "\n",
    "        return ans\n",
    "\n",
    "# Time Complexity : O(N) \n",
    "# Space Complexity : O(N) -> a new list is being made of size 2n "
   ]
  }
 ],
 "metadata": {
  "language_info": {
   "name": "python"
  }
 },
 "nbformat": 4,
 "nbformat_minor": 2
}
