{
 "cells": [
  {
   "cell_type": "code",
   "execution_count": null,
   "metadata": {},
   "outputs": [],
   "source": [
    "class Solution(object):\n",
    "    def buildArray(self, nums):\n",
    "        \"\"\"\n",
    "        :type nums: List[int]\n",
    "        :rtype: List[int]\n",
    "        \"\"\"\n",
    "\n",
    "        nums = [nums[nums[i]] for i in range(len(nums))]\n",
    "        \n",
    "        return nums\n",
    "   \n",
    "# Time Complexity: O(N) because each element needs to be visited for computation\n",
    "# Space Complexity: O(1) because we are updating the same array "
   ]
  }
 ],
 "metadata": {
  "language_info": {
   "name": "python"
  }
 },
 "nbformat": 4,
 "nbformat_minor": 2
}
