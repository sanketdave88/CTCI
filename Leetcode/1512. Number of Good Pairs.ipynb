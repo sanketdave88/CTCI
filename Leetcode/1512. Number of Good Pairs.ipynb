{
 "cells": [
  {
   "cell_type": "code",
   "execution_count": null,
   "metadata": {},
   "outputs": [],
   "source": [
    "class Solution(object):\n",
    "    def numIdenticalPairs(self, nums):\n",
    "        \"\"\"\n",
    "        :type nums: List[int]\n",
    "        :rtype: int\n",
    "        \"\"\"\n",
    "        cnt = 0\n",
    "        a = {}\n",
    "\n",
    "        # load dictionary\n",
    "        for i in nums:\n",
    "            if i in a:\n",
    "                a[i] += 1\n",
    "            else:\n",
    "                a[i] = 1\n",
    "        \n",
    "        # count pairs\n",
    "        for value in a.values():\n",
    "            if value > 1:\n",
    "                cnt += (value * (value-1))//2\n",
    "\n",
    "        return cnt\n",
    "\n",
    "        # O(N^2)"
   ]
  }
 ],
 "metadata": {
  "language_info": {
   "name": "python"
  }
 },
 "nbformat": 4,
 "nbformat_minor": 2
}
