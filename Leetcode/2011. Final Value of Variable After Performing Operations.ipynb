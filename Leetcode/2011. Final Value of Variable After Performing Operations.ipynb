{
 "cells": [
  {
   "cell_type": "code",
   "execution_count": null,
   "metadata": {},
   "outputs": [],
   "source": [
    "class Solution(object):\n",
    "    def finalValueAfterOperations(self, operations):\n",
    "        \"\"\"\n",
    "        :type operations: List[str]\n",
    "        :rtype: int\n",
    "        \"\"\"\n",
    "        X = 0\n",
    "        for o in operations:\n",
    "            if (o[1] == '-'):\n",
    "                X = X - 1\n",
    "            else:\n",
    "                X = X + 1\n",
    "\n",
    "        return X"
   ]
  }
 ],
 "metadata": {
  "language_info": {
   "name": "python"
  }
 },
 "nbformat": 4,
 "nbformat_minor": 2
}
