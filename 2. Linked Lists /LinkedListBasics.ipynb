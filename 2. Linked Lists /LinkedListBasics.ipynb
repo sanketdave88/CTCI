{
 "cells": [
  {
   "cell_type": "markdown",
   "metadata": {},
   "source": [
    "# Linked List Basics\n",
    "Notes by: ChatGPT x Sanket Dave\n",
    "\n",
    "<hr>\n",
    "\n",
    "### Contents\n",
    "\n",
    "**1. Introduction to Linked Lists:**\n",
    "\n",
    "- Explanation of what a linked list is.\n",
    "\n",
    "- Comparison with arrays and their advantages/disadvantages.\n",
    "\n",
    "**2. Node Concept:**\n",
    "\n",
    "- Understanding the concept of a node.\n",
    "\n",
    "- Structure of a node (containing data and a pointer/reference to the next node).\n",
    "\n",
    "**3. Types of Linked Lists:**\n",
    "\n",
    "- **Singly Linked List:** Each node points to the next node in the sequence.\n",
    "\n",
    "- **Doubly Linked List:** Each node points to both the next and previous nodes.\n",
    "\n",
    "- **Circular Linked List:** Last node points back to the first node.\n",
    "\n",
    "**4. Basic Operations:**\n",
    "\n",
    "- **Insertion:**\n",
    "\n",
    "  - Inserting at the beginning.\n",
    "\n",
    "  - Inserting at the end.\n",
    "\n",
    "  - Inserting at a specific position.\n",
    "\n",
    "- **Deletion:**\n",
    "\n",
    "  - Deleting from the beginning.\n",
    "\n",
    "  - Deleting from the end.\n",
    "\n",
    "  - Deleting a specific node.\n",
    "  \n",
    "- **Searching:** Finding a specific element in the linked list.\n",
    "\n",
    "**5. Traversal:**\n",
    "\n",
    "- Iterating through the linked list to access and print each element.\n",
    "\n",
    "**6. Length and Empty Check:**\n",
    "\n",
    "- Determining the length of the linked list.\n",
    "\n",
    "- Checking if the linked list is empty.\n",
    "\n",
    "**7. Special Operations:**\n",
    "\n",
    "- Reversing the linked list.\n",
    "\n",
    "- Detecting cycles in the linked list.\n",
    "\n",
    "- Finding the middle element of the linked list.\n",
    "\n",
    "**8. Memory Management:**\n",
    "\n",
    "- Dynamic memory allocation and deallocation.\n",
    "\n",
    "- Memory overhead of linked lists compared to arrays.\n",
    "\n",
    "**9. Performance Analysis:**\n",
    "\n",
    "- Time complexity of basic operations in linked lists (insertion, deletion, searching).\n",
    "\n",
    "<br>\n",
    "<br>\n",
    "<hr>\n"
   ]
  },
  {
   "cell_type": "markdown",
   "metadata": {},
   "source": [
    "### 1. Introduction to Linked Lists\n",
    "\n",
    "A linked list is a linear data structure consisting of a sequence of elements, called nodes, where each node contains both data and a reference or pointer to the next node in the sequence. Unlike arrays, which store elements in contiguous memory locations, linked lists use dynamic memory allocation to store elements in a non-contiguous manner. This dynamic nature allows linked lists to efficiently handle insertions and deletions of elements, as they do not require shifting of elements as in arrays.\n",
    "\n",
    "**Comparison with Arrays:**\n",
    "\n",
    "Arrays and linked lists are both used to store collections of elements, but they have different characteristics:\n",
    "\n",
    "- **Memory Allocation:** Arrays require contiguous memory allocation, meaning that all elements are stored in adjacent memory locations. In contrast, linked lists use dynamic memory allocation, so nodes can be scattered throughout memory.\n",
    "\n",
    "- **Insertions and Deletions:** Linked lists excel at insertions and deletions, especially in the middle of the list, as they only require changing pointers. Arrays, on the other hand, may require shifting elements to accommodate insertions or deletions, which can be inefficient for large arrays.\n",
    "\n",
    "- **Random Access:** Arrays allow constant-time access to elements using indexing (e.g., accessing the i-th element), while linked lists require traversing from the beginning of the list to reach a specific element, which can take linear time in the worst case.\n",
    "\n",
    "- **Size Flexibility:** Linked lists can dynamically grow and shrink in size as needed since memory allocation is done dynamically. Arrays have a fixed size determined at the time of declaration (though dynamic arrays can resize themselves).\n",
    "\n",
    "- **Memory Overhead:** Linked lists have some memory overhead per node due to the storage of pointers/references. Arrays have fixed memory overhead per element.\n"
   ]
  },
  {
   "cell_type": "markdown",
   "metadata": {},
   "source": [
    "<hr>\n",
    "\n",
    "### 2. Node Concept\n",
    "\n",
    "In a linked list, a node is the fundamental building block. It contains two parts:\n",
    "\n",
    "- **Data:** This is the actual value or information that the node holds. It could be any type of data, such as an integer, string, object, etc., depending on the - requirements of the linked list.\n",
    "\n",
    "- **Pointer/Reference:** This is a reference or pointer to the next node in the sequence. \n",
    "\n",
    "    - In a singly linked list, each node contains a single pointer pointing to the next node. \n",
    "    \n",
    "    - In a doubly linked list, each node contains two pointers: one pointing to the next node and one pointing to the previous node. \n",
    "    \n",
    "    - In a circular linked list, the last node points back to the first node, forming a circular structure.\n",
    "\n",
    "#### Structure of Node"
   ]
  },
  {
   "cell_type": "code",
   "execution_count": 42,
   "metadata": {},
   "outputs": [],
   "source": [
    "class Node:\n",
    "    def __init__(self, data):\n",
    "        self.data = data   # Data part\n",
    "        self.next = None   # Pointer to the next node"
   ]
  },
  {
   "cell_type": "markdown",
   "metadata": {},
   "source": [
    "**In this Python class:**\n",
    "\n",
    "- The Node class represents a node in the linked list.\n",
    "\n",
    "- The `__init__` method is the constructor used to initialize new instances of the class.\n",
    "\n",
    "- `self.data` represents the data stored in the node.\n",
    "\n",
    "- `self.next` is a reference to the next node in the linked list. Initially, it's set to None because when we create a new node, it's not connected to any other node.\n",
    "\n",
    "\n",
    "#### Create a new node and link it to another node"
   ]
  },
  {
   "cell_type": "code",
   "execution_count": 43,
   "metadata": {},
   "outputs": [],
   "source": [
    "# Create nodes\n",
    "node1 = Node(10)\n",
    "node2 = Node(20)\n",
    "\n",
    "# Link nodes\n",
    "node1.next = node2"
   ]
  },
  {
   "cell_type": "markdown",
   "metadata": {},
   "source": [
    "<hr>\n",
    "\n",
    "### 3. Types of Linked Lists\n",
    "\n",
    "1. **Singly Linked List:**\n",
    "\n",
    "   - In a singly linked list, each node contains \"data\" and a single pointer/reference to the \"next\" node in the sequence.\n",
    "\n",
    "   - It's called \"singly\" linked because each node is linked only to the next node, forming a unidirectional sequence.\n",
    "\n",
    "   - The last node's pointer points to `None` to indicate the end of the list.\n",
    "\n",
    "![Singly Linked List Image](https://media.geeksforgeeks.org/wp-content/cdn-uploads/20200922124319/Singly-Linked-List1.png)\n",
    "\n",
    "2. **Doubly Linked List:**\n",
    "\n",
    "   - In a doubly linked list, each node contains data and two pointers/references: one pointing to the next node and one pointing to the previous node.\n",
    "\n",
    "   - This bidirectional linkage allows traversal in both forward and backward directions.\n",
    "\n",
    "   - The first node's previous pointer and the last node's next pointer point to `None` to indicate the start and end of the list, respectively.\n",
    "\n",
    "![Doubly Linked List Image](https://media.geeksforgeeks.org/wp-content/cdn-uploads/20200922124412/Doubly-Linked-List.png)\n",
    "\n",
    "3. **Circular Linked List:**\n",
    "\n",
    "   - In a circular linked list, the last node's pointer points back to the first node, forming a circular structure.\n",
    "\n",
    "   - This circular linkage can be in either singly linked lists or doubly linked lists.\n",
    "   \n",
    "   - Circular linked lists can be useful in applications where continuous access to elements is required, or when there's a need to traverse the list indefinitely without hitting a dead end."
   ]
  },
  {
   "cell_type": "markdown",
   "metadata": {},
   "source": [
    "<hr>\n",
    "\n",
    "\n",
    "### 4. Basic Operations\n",
    "\n",
    "1. **Insertion:**\n",
    "   - **Inserting at the beginning:** Add a new node at the beginning of the linked list.\n",
    "\n",
    "   - **Inserting at the end:** Add a new node at the end of the linked list.\n",
    "\n",
    "   - **Inserting at a specific position:** Insert a new node at a specified position in the linked list.\n",
    "\n",
    "2. **Deletion:**\n",
    "   - **Deleting from the beginning:** Remove the first node from the linked list.\n",
    "\n",
    "   - **Deleting from the end:** Remove the last node from the linked list.\n",
    "   \n",
    "   - **Deleting a specific node:** Remove a node with a specific value/data from the linked list.\n",
    "\n",
    "3. **Searching:**\n",
    "   - **Finding a specific element:** Search for a particular element/data in the linked list.\n",
    "\n",
    "#### Implementation Code"
   ]
  },
  {
   "cell_type": "code",
   "execution_count": 44,
   "metadata": {},
   "outputs": [],
   "source": [
    "class Node:\n",
    "    def __init__(self, data):\n",
    "        self.data = data\n",
    "        self.next = None  # Pointer to the next node\n",
    "\n",
    "class LinkedList:\n",
    "    def __init__(self):\n",
    "        self.head = None  # Initialize an empty linked list\n",
    "\n",
    "    # Insert at beginning\n",
    "    def insert_at_beginning(self, data):\n",
    "        # Create a new node\n",
    "        new_node = Node(data)\n",
    "        # Set the new node's next pointer to the current head of the list\n",
    "        new_node.next = self.head\n",
    "        # Update the head to point to the new node\n",
    "        self.head = new_node\n",
    "\n",
    "    # Insert at End\n",
    "    def insert_at_end(self, data):\n",
    "        # Create a new node\n",
    "        new_node = Node(data)\n",
    "        # If the list is empty, set the new node as the head\n",
    "        if not self.head:\n",
    "            self.head = new_node\n",
    "            return\n",
    "        # Traverse the list to find the last node\n",
    "        last_node = self.head\n",
    "        while last_node.next:\n",
    "            last_node = last_node.next\n",
    "        # Set the next pointer of the last node to the new node\n",
    "        last_node.next = new_node\n",
    "\n",
    "    # Insert at Position\n",
    "    def insert_at_position(self, data, position):\n",
    "        # If position is 0, insert at the beginning\n",
    "        if position == 0:\n",
    "            self.insert_at_beginning(data)\n",
    "            return\n",
    "        # Create a new node\n",
    "        new_node = Node(data)\n",
    "        current_node = self.head\n",
    "        # Traverse to the node before the desired position\n",
    "        for _ in range(position - 1):\n",
    "            if current_node is None:\n",
    "                raise IndexError(\"Position out of range\")\n",
    "            current_node = current_node.next\n",
    "        # Insert the new node at the desired position\n",
    "        new_node.next = current_node.next\n",
    "        current_node.next = new_node\n",
    "\n",
    "    # Delete from Beginning\n",
    "    def delete_from_beginning(self):\n",
    "        # If the list is empty, raise an exception\n",
    "        if not self.head:\n",
    "            raise Exception(\"List is empty\")\n",
    "        # Update the head to point to the next node\n",
    "        self.head = self.head.next\n",
    "\n",
    "    # Delete from End\n",
    "    def delete_from_end(self):\n",
    "        # If the list is empty, raise an exception\n",
    "        if not self.head:\n",
    "            raise Exception(\"List is empty\")\n",
    "        # If there's only one node, set the head to None\n",
    "        if self.head.next is None:\n",
    "            self.head = None\n",
    "            return\n",
    "        # Traverse to the second last node\n",
    "        second_last = self.head\n",
    "        while second_last.next.next:\n",
    "            second_last = second_last.next\n",
    "        # Set the next pointer of the second last node to None\n",
    "        second_last.next = None\n",
    "\n",
    "    # Delete Node\n",
    "    def delete_node(self, key):\n",
    "        current_node = self.head\n",
    "        # If the key is found at the head, update the head\n",
    "        if current_node and current_node.data == key:\n",
    "            self.head = current_node.next\n",
    "            return\n",
    "        # Traverse the list to find the node with the key\n",
    "        prev = None\n",
    "        while current_node and current_node.data != key:\n",
    "            prev = current_node\n",
    "            current_node = current_node.next\n",
    "        # If the key is found, remove the node\n",
    "        if current_node is None:\n",
    "            return\n",
    "        prev.next = current_node.next\n",
    "\n",
    "    # Search\n",
    "    def search(self, key):\n",
    "        current_node = self.head\n",
    "        # Traverse the list to find the key\n",
    "        while current_node:\n",
    "            if current_node.data == key:\n",
    "                return True\n",
    "            current_node = current_node.next\n",
    "        return False\n",
    "\n",
    "    # Display\n",
    "    def display(self):\n",
    "        current_node = self.head\n",
    "        # Traverse and print each node's data\n",
    "        while current_node:\n",
    "            print(current_node.data, end=\" -> \")\n",
    "            current_node = current_node.next\n",
    "        print(\"None\")"
   ]
  },
  {
   "cell_type": "code",
   "execution_count": 45,
   "metadata": {},
   "outputs": [
    {
     "name": "stdout",
     "output_type": "stream",
     "text": [
      "Outputs\n",
      "\n",
      "Linked list after inserting elements at the beginning:\n",
      "15 -> 10 -> 5 -> None\n",
      "\n",
      "Linked list after inserting elements at the end:\n",
      "15 -> 10 -> 5 -> 20 -> 25 -> None\n",
      "\n",
      "Linked list after inserting an element at position 2:\n",
      "15 -> 10 -> 100 -> 5 -> 20 -> 25 -> None\n",
      "\n",
      "Linked list after deleting the first node:\n",
      "10 -> 100 -> 5 -> 20 -> 25 -> None\n",
      "\n",
      "Linked list after deleting the last node:\n",
      "10 -> 100 -> 5 -> 20 -> None\n",
      "\n",
      "Linked list after deleting the node with data 100:\n",
      "10 -> 5 -> 20 -> None\n",
      "\n",
      "Searching the value 20 in the linked list:\n",
      "True\n",
      "\n",
      "Searching the value 50 in the linked list:\n",
      "False\n"
     ]
    }
   ],
   "source": [
    "# Example usage:\n",
    "\n",
    "print(\"Outputs\")\n",
    "linked_list = LinkedList()\n",
    "\n",
    "# Inserting elements at the beginning\n",
    "linked_list.insert_at_beginning(5)\n",
    "linked_list.insert_at_beginning(10)\n",
    "linked_list.insert_at_beginning(15)\n",
    "\n",
    "# Displaying the linked list after insertion\n",
    "print(\"\\nLinked list after inserting elements at the beginning:\")\n",
    "linked_list.display()\n",
    "\n",
    "# Inserting elements at the end\n",
    "linked_list.insert_at_end(20)\n",
    "linked_list.insert_at_end(25)\n",
    "\n",
    "# Displaying the linked list after insertion\n",
    "print(\"\\nLinked list after inserting elements at the end:\")\n",
    "linked_list.display()\n",
    "\n",
    "# Inserting an element at a specific position\n",
    "linked_list.insert_at_position(100, 2)\n",
    "\n",
    "# Displaying the linked list after insertion\n",
    "print(\"\\nLinked list after inserting an element at position 2:\")\n",
    "linked_list.display()\n",
    "\n",
    "# Deleting the first node\n",
    "linked_list.delete_from_beginning()\n",
    "\n",
    "# Displaying the linked list after deletion\n",
    "print(\"\\nLinked list after deleting the first node:\")\n",
    "linked_list.display()\n",
    "\n",
    "# Deleting the last node\n",
    "linked_list.delete_from_end()\n",
    "\n",
    "# Displaying the linked list after deletion\n",
    "print(\"\\nLinked list after deleting the last node:\")\n",
    "linked_list.display()\n",
    "\n",
    "# Deleting a specific node with data 100\n",
    "linked_list.delete_node(100)\n",
    "\n",
    "# Displaying the linked list after deletion\n",
    "print(\"\\nLinked list after deleting the node with data 100:\")\n",
    "linked_list.display()\n",
    "\n",
    "# Searching for element 20\n",
    "print(\"\\nSearching the value 20 in the linked list:\")\n",
    "print(linked_list.search(20))\n",
    "\n",
    "# Searching for element 50\n",
    "print(\"\\nSearching the value 50 in the linked list:\")\n",
    "print(linked_list.search(50))"
   ]
  },
  {
   "cell_type": "markdown",
   "metadata": {},
   "source": [
    "<hr>\n",
    "\n",
    "### 5. Traversal\n",
    "\n",
    "  - Traversal involves iterating through the linked list to access and print each element. \n",
    "  - It allows us to examine or manipulate each node in the list sequentially.\n",
    "\n",
    "- **Example Code:**\n"
   ]
  },
  {
   "cell_type": "code",
   "execution_count": 46,
   "metadata": {},
   "outputs": [],
   "source": [
    "def display(self):\n",
    "    # Start from the head node\n",
    "    current_node = self.head\n",
    "    \n",
    "    # Iterate through the linked list\n",
    "    while current_node:\n",
    "        # Print the data of the current node\n",
    "        print(current_node.data, end=\" -> \")\n",
    "        \n",
    "        # Move to the next node\n",
    "        current_node = current_node.next\n",
    "    \n",
    "    # Print \"None\" to indicate the end of the linked list\n",
    "    print(\"None\")"
   ]
  },
  {
   "cell_type": "markdown",
   "metadata": {},
   "source": [
    " - **Implementation:** "
   ]
  },
  {
   "cell_type": "code",
   "execution_count": 47,
   "metadata": {},
   "outputs": [
    {
     "name": "stdout",
     "output_type": "stream",
     "text": [
      "5 -> 10 -> 15 -> None\n"
     ]
    }
   ],
   "source": [
    "linked_list = LinkedList()\n",
    "linked_list.insert_at_beginning(5)\n",
    "linked_list.insert_at_end(10)\n",
    "linked_list.insert_at_end(15)\n",
    "linked_list.display()\n"
   ]
  },
  {
   "cell_type": "markdown",
   "metadata": {},
   "source": [
    "<hr>\n",
    "\n",
    "### 6. Length and Empty Check\n",
    "\n",
    "- To determine the length of the linked list, we iterate through the list and count the number of nodes. \n",
    "- This gives us the total number of elements in the list. \n",
    "- Additionally, we can check if the linked list is empty by verifying if the head node is `None`.\n",
    "\n",
    "- **Example Code:**\n"
   ]
  },
  {
   "cell_type": "code",
   "execution_count": 48,
   "metadata": {},
   "outputs": [],
   "source": [
    "def length(self):\n",
    "    count = 0\n",
    "    current_node = self.head\n",
    "    while current_node:\n",
    "        count += 1\n",
    "        current_node = current_node.next\n",
    "    return count\n",
    "\n",
    "def is_empty(self):\n",
    "     return self.head is None\n",
    "\n",
    "# Add the is_empty and length to the LinkedList Class object\n",
    "setattr(LinkedList, 'is_empty', is_empty)\n",
    "setattr(LinkedList, 'length', length)"
   ]
  },
  {
   "cell_type": "markdown",
   "metadata": {},
   "source": [
    "- **Implementation**"
   ]
  },
  {
   "cell_type": "code",
   "execution_count": 49,
   "metadata": {},
   "outputs": [
    {
     "name": "stdout",
     "output_type": "stream",
     "text": [
      "Is the linked list empty? True\n",
      "Length of the linked list: 3\n",
      "Is the linked list empty? False\n"
     ]
    }
   ],
   "source": [
    "linked_list = LinkedList()\n",
    "print(\"Is the linked list empty?\", linked_list.is_empty())\n",
    "linked_list.insert_at_beginning(5)\n",
    "linked_list.insert_at_end(10)\n",
    "linked_list.insert_at_end(15)\n",
    "print(\"Length of the linked list:\", linked_list.length())\n",
    "print(\"Is the linked list empty?\", linked_list.is_empty())\n"
   ]
  },
  {
   "cell_type": "markdown",
   "metadata": {},
   "source": [
    "<hr>\n",
    "\n",
    "### 7. Special Operations\n",
    "\n",
    "#### Reversing the linked list:\n",
    "\n",
    "  - **Explanation:** Reversing a linked list involves changing the direction of pointers, so the last node becomes the first, and so on. This operation allows traversal of the list from the end to the beginning.\n",
    "\n",
    "  - **Example Code:**"
   ]
  },
  {
   "cell_type": "code",
   "execution_count": 50,
   "metadata": {},
   "outputs": [],
   "source": [
    "def reverse(self):\n",
    "        prev_node = None\n",
    "        current_node = self.head\n",
    "        while current_node:\n",
    "            next_node = current_node.next\n",
    "            current_node.next = prev_node\n",
    "            prev_node = current_node\n",
    "            current_node = next_node\n",
    "        self.head = prev_node\n",
    "\n",
    "setattr(LinkedList, 'reverse', reverse)"
   ]
  },
  {
   "cell_type": "markdown",
   "metadata": {},
   "source": [
    "- **Implementation:**"
   ]
  },
  {
   "cell_type": "code",
   "execution_count": 51,
   "metadata": {},
   "outputs": [
    {
     "name": "stdout",
     "output_type": "stream",
     "text": [
      "5 -> 10 -> 15 -> None\n",
      "15 -> 10 -> 5 -> None\n"
     ]
    }
   ],
   "source": [
    "linked_list = LinkedList()\n",
    "linked_list.insert_at_end(5)\n",
    "linked_list.insert_at_end(10)\n",
    "linked_list.insert_at_end(15)\n",
    "linked_list.display()  # Output: 5 -> 10 -> 15 -> None\n",
    "linked_list.reverse()\n",
    "linked_list.display()  # Output: 15 -> 10 -> 5 -> None"
   ]
  },
  {
   "cell_type": "markdown",
   "metadata": {},
   "source": [
    "#### Detecting cycles in the linked list\n",
    "\n",
    "  - **Explanation:** Detecting cycles involves checking whether there is a loop in the linked list, i.e., whether there is a node that is visited more than once when traversing the list.\n",
    "\n",
    "  - **Example Code:**"
   ]
  },
  {
   "cell_type": "code",
   "execution_count": 52,
   "metadata": {},
   "outputs": [],
   "source": [
    "def has_cycle(self):\n",
    "        slow_pointer = self.head\n",
    "        fast_pointer = self.head\n",
    "        while fast_pointer and fast_pointer.next:\n",
    "            slow_pointer = slow_pointer.next\n",
    "            fast_pointer = fast_pointer.next.next\n",
    "            if slow_pointer == fast_pointer:\n",
    "                return True\n",
    "        return False\n",
    "\n",
    "setattr(LinkedList, 'has_cycle', has_cycle)"
   ]
  },
  {
   "cell_type": "markdown",
   "metadata": {},
   "source": [
    "- **Implementation:**"
   ]
  },
  {
   "cell_type": "code",
   "execution_count": 53,
   "metadata": {},
   "outputs": [
    {
     "name": "stdout",
     "output_type": "stream",
     "text": [
      "Has cycle: True\n"
     ]
    }
   ],
   "source": [
    "linked_list = LinkedList()\n",
    "# Create a linked list with a cycle\n",
    "linked_list.insert_at_end(5)\n",
    "linked_list.insert_at_end(10)\n",
    "linked_list.insert_at_end(15)\n",
    "linked_list.head.next.next.next = linked_list.head.next\n",
    "print(\"Has cycle:\", linked_list.has_cycle())  # Output: True"
   ]
  },
  {
   "cell_type": "markdown",
   "metadata": {},
   "source": [
    "\n",
    "#### Finding the middle element of the linked list\n",
    "  \n",
    "  - **Explanation:** Finding the middle element involves traversing the list with two pointers—one moving at twice the speed of the other. When the faster pointer reaches the end, the slower pointer will be at the middle.\n",
    "  \n",
    "  - **Example Code:**\n",
    "\n",
    "  "
   ]
  },
  {
   "cell_type": "code",
   "execution_count": 56,
   "metadata": {},
   "outputs": [],
   "source": [
    "def find_middle(self):\n",
    "    slow_pointer = self.head\n",
    "    fast_pointer = self.head\n",
    "    while fast_pointer and fast_pointer.next:\n",
    "        slow_pointer = slow_pointer.next\n",
    "        fast_pointer = fast_pointer.next.next\n",
    "    return slow_pointer.data\n",
    "\n",
    "setattr(LinkedList, 'find_middle', find_middle)"
   ]
  },
  {
   "cell_type": "markdown",
   "metadata": {},
   "source": [
    "- **Implementation:**\n",
    "\n",
    " "
   ]
  },
  {
   "cell_type": "code",
   "execution_count": 57,
   "metadata": {},
   "outputs": [
    {
     "name": "stdout",
     "output_type": "stream",
     "text": [
      "Middle element: 15\n"
     ]
    }
   ],
   "source": [
    "linked_list = LinkedList()\n",
    "linked_list.insert_at_end(5)\n",
    "linked_list.insert_at_end(10)\n",
    "linked_list.insert_at_end(15)\n",
    "linked_list.insert_at_end(20)\n",
    "print(\"Middle element:\", linked_list.find_middle())  # Output: 10"
   ]
  },
  {
   "cell_type": "markdown",
   "metadata": {},
   "source": [
    "These special operations enhance the functionality of the linked list, allowing for more advanced manipulation and analysis of its elements."
   ]
  },
  {
   "cell_type": "markdown",
   "metadata": {},
   "source": [
    "<hr>\n",
    "\n",
    "### 8. Memory Management:\n",
    "\n",
    "#### Dynamic memory allocation and deallocation:\n",
    "  \n",
    "  - **Explanation:** Linked lists typically use dynamic memory allocation to create nodes as needed during insertion. Memory is allocated dynamically using functions like `malloc()` in languages like C or through object instantiation in languages like Python. Deallocation of memory is also dynamic and occurs when nodes are deleted or when the linked list is destroyed.\n",
    "  \n",
    "  - **Memory Overhead:** Linked lists have a memory overhead due to the additional memory required for storing pointers to the next node. This overhead is typically higher compared to arrays, especially for small data types.\n",
    "\n",
    "#### Memory Overhead of Linked Lists Compared to Arrays:\n",
    "  \n",
    "  - **Explanation:** Linked lists have a higher memory overhead compared to arrays because each node in the linked list contains additional memory overhead for storing pointers to the next node. This overhead can be significant, especially for small data types. Arrays, on the other hand, have a fixed memory overhead that is independent of the number of elements stored.\n",
    "\n",
    "<br><hr><br>\n",
    "\n",
    "### 9. Performance Analysis:\n",
    "\n",
    "#### Time Complexity of Basic Operations in Linked Lists:\n",
    "\n",
    "  - **Insertion:** \n",
    "\n",
    "    - **At Beginning:** O(1)\n",
    "\n",
    "    - **At End:** O(n)\n",
    "\n",
    "    - **At Position:** O(n)\n",
    "\n",
    "  - **Deletion:**\n",
    "\n",
    "    - **At Beginning:** O(1)\n",
    "\n",
    "    - **At End:** O(n)\n",
    "\n",
    "    - **At Position:** O(n)\n",
    "    \n",
    "  - **Searching:** \n",
    "  \n",
    "    - **Linear Search:** O(n)\n",
    "\n",
    "In summary, linked lists have different time complexities for basic operations compared to arrays. Insertion and deletion at the beginning of a linked list are generally faster compared to arrays, but insertion and deletion at the end or at a specific position have higher time complexities due to the need for traversal. Searching in a linked list typically requires a linear search, resulting in a time complexity of O(n).\n",
    "\n",
    "<br><hr>"
   ]
  },
  {
   "cell_type": "markdown",
   "metadata": {},
   "source": []
  }
 ],
 "metadata": {
  "kernelspec": {
   "display_name": "Python 3",
   "language": "python",
   "name": "python3"
  },
  "language_info": {
   "codemirror_mode": {
    "name": "ipython",
    "version": 3
   },
   "file_extension": ".py",
   "mimetype": "text/x-python",
   "name": "python",
   "nbconvert_exporter": "python",
   "pygments_lexer": "ipython3",
   "version": "3.9.6"
  }
 },
 "nbformat": 4,
 "nbformat_minor": 2
}
