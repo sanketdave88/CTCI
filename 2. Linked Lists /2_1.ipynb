{
 "cells": [
  {
   "cell_type": "markdown",
   "metadata": {},
   "source": [
    "## 2.1 Remove Dups\n",
    "\n",
    "Write code to remove duplicates from an unsorted linked list.\n",
    "\n",
    "FOLLOW UP\n",
    "\n",
    "How would you solve this problem if a temporary buffer is not allowed? \n",
    "\n",
    "Hints: #9, #40"
   ]
  },
  {
   "cell_type": "code",
   "execution_count": null,
   "metadata": {},
   "outputs": [],
   "source": [
    "# iterate through all nodes\n",
    "# store the number of times a particular value is repeating ...in set maybe? if the value already exists in the set then\n",
    "# remove that node --> how? --> set the pointer of the previous node that points to the current node to the next node \n"
   ]
  },
  {
   "cell_type": "code",
   "execution_count": 4,
   "metadata": {},
   "outputs": [],
   "source": [
    "# Define the Node and LinkedList classes\n",
    "class Node:\n",
    "    def __init__(self, data):\n",
    "        self.data = data\n",
    "        self.next = None\n",
    "\n",
    "class LinkedList:\n",
    "    def __init__(self):\n",
    "        self.head = None\n",
    "\n",
    "    def insert_at_end(self, data):\n",
    "        if not self.head:\n",
    "            self.head = Node(data)\n",
    "        else:\n",
    "            current_node = self.head\n",
    "            while current_node.next:\n",
    "                current_node = current_node.next\n",
    "            current_node.next = Node(data)\n",
    "\n",
    "    def display(self):\n",
    "        current_node = self.head\n",
    "        while current_node:\n",
    "            print(current_node.data, end=\" -> \")\n",
    "            current_node = current_node.next\n",
    "        print(\"None\")"
   ]
  },
  {
   "cell_type": "code",
   "execution_count": 5,
   "metadata": {},
   "outputs": [],
   "source": [
    "def remove_dups(self):\n",
    "    # Start from the head node\n",
    "    current_node = self.head\n",
    "    set_of_values = set()\n",
    "\n",
    "    # Iterate through the linked list\n",
    "    while current_node and current_node.next:\n",
    "        # Check if the next node's data is in the set\n",
    "        if current_node.next.data in set_of_values:\n",
    "            # Skip the next node if it's a duplicate\n",
    "            current_node.next = current_node.next.next\n",
    "        else:\n",
    "            # Add the data to the set if it's not a duplicate\n",
    "            set_of_values.add(current_node.next.data)\n",
    "            current_node = current_node.next\n",
    "\n",
    "setattr(LinkedList, 'remove_dups', remove_dups)"
   ]
  },
  {
   "cell_type": "code",
   "execution_count": 6,
   "metadata": {},
   "outputs": [
    {
     "name": "stdout",
     "output_type": "stream",
     "text": [
      "Original linked list:\n",
      "1 -> 2 -> 3 -> 2 -> 4 -> 3 -> None\n",
      "Linked list after removing duplicates:\n",
      "1 -> 2 -> 3 -> 4 -> None\n"
     ]
    }
   ],
   "source": [
    "# Test cases\n",
    "if __name__ == \"__main__\":\n",
    "    # Create a linked list with duplicates\n",
    "    linked_list = LinkedList()\n",
    "    linked_list.insert_at_end(1)\n",
    "    linked_list.insert_at_end(2)\n",
    "    linked_list.insert_at_end(3)\n",
    "    linked_list.insert_at_end(2)\n",
    "    linked_list.insert_at_end(4)\n",
    "    linked_list.insert_at_end(3)\n",
    "\n",
    "    # Display the original linked list\n",
    "    print(\"Original linked list:\")\n",
    "    linked_list.display()\n",
    "\n",
    "    # Remove duplicates\n",
    "    linked_list.remove_dups()\n",
    "\n",
    "    # Display the linked list after removing duplicates\n",
    "    print(\"Linked list after removing duplicates:\")\n",
    "    linked_list.display()"
   ]
  }
 ],
 "metadata": {
  "kernelspec": {
   "display_name": "Python 3",
   "language": "python",
   "name": "python3"
  },
  "language_info": {
   "codemirror_mode": {
    "name": "ipython",
    "version": 3
   },
   "file_extension": ".py",
   "mimetype": "text/x-python",
   "name": "python",
   "nbconvert_exporter": "python",
   "pygments_lexer": "ipython3",
   "version": "3.9.6"
  }
 },
 "nbformat": 4,
 "nbformat_minor": 2
}
