{
 "cells": [
  {
   "cell_type": "markdown",
   "metadata": {},
   "source": [
    "## 2.1 Remove Dups\n",
    "\n",
    "Write code to remove duplicates from an unsorted linked list.\n",
    "\n",
    "FOLLOW UP\n",
    "\n",
    "How would you solve this problem if a temporary buffer is not allowed? \n",
    "\n",
    "Hints: #9, #40"
   ]
  },
  {
   "cell_type": "code",
   "execution_count": null,
   "metadata": {},
   "outputs": [],
   "source": []
  }
 ],
 "metadata": {
  "language_info": {
   "name": "python"
  }
 },
 "nbformat": 4,
 "nbformat_minor": 2
}
