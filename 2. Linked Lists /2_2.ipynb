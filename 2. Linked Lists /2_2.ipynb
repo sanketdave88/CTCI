{
 "cells": [
  {
   "cell_type": "markdown",
   "metadata": {},
   "source": [
    "### 2.2 Return Kth to Last\n",
    "\n",
    "Implement an algorithm to find the kth \"from\" last element of a singly linked list."
   ]
  },
  {
   "cell_type": "code",
   "execution_count": 18,
   "metadata": {},
   "outputs": [],
   "source": [
    "# Define the Node and LinkedList classes\n",
    "class Node:\n",
    "    def __init__(self, data):\n",
    "        self.data = data\n",
    "        self.next = None\n",
    "\n",
    "class LinkedList:\n",
    "    def __init__(self):\n",
    "        self.head = None\n",
    "\n",
    "    def insert_at_end(self, data):\n",
    "        if not self.head:\n",
    "            self.head = Node(data)\n",
    "        else:\n",
    "            current_node = self.head\n",
    "            while current_node.next:\n",
    "                current_node = current_node.next\n",
    "            current_node.next = Node(data)\n",
    "\n",
    "    def display(self):\n",
    "        current_node = self.head\n",
    "        while current_node:\n",
    "            print(current_node.data, end=\" -> \")\n",
    "            current_node = current_node.next\n",
    "        print(\"None\")"
   ]
  },
  {
   "cell_type": "code",
   "execution_count": 45,
   "metadata": {},
   "outputs": [],
   "source": [
    "def kth_element(self,k):\n",
    "    # iterate through the whole linkedlist and get the length of the linkedlist\n",
    "    # once we have the length of the linkedlist subtract it with k --> len-k = n if len is 8 and k is 3 then n = 8-3 = 5 and our n+1 value is our kth element\n",
    "    current_node = self.head\n",
    "    length = 0\n",
    "    while current_node:\n",
    "        length += 1\n",
    "        current_node = current_node.next   \n",
    "\n",
    "    n = (length - k) \n",
    "    cnt = 0\n",
    "    current_node = self.head\n",
    "\n",
    "    while current_node:\n",
    "        if cnt == n:\n",
    "            print(\"kth element from the end is \",current_node.data)\n",
    "            break\n",
    "        cnt += 1\n",
    "        current_node = current_node.next\n",
    "\n",
    "setattr(LinkedList, 'kth_element', kth_element)"
   ]
  },
  {
   "cell_type": "code",
   "execution_count": 46,
   "metadata": {},
   "outputs": [
    {
     "name": "stdout",
     "output_type": "stream",
     "text": [
      "kth element from the end is  2\n"
     ]
    }
   ],
   "source": [
    "# Test cases\n",
    "if __name__ == \"__main__\":\n",
    "    # Create a linked list with duplicates\n",
    "    linked_list = LinkedList()\n",
    "    linked_list.insert_at_end(1)\n",
    "    linked_list.insert_at_end(2)\n",
    "    linked_list.insert_at_end(3)\n",
    "    linked_list.insert_at_end(2)\n",
    "    linked_list.insert_at_end(4)\n",
    "    linked_list.insert_at_end(3)\n",
    "    \n",
    "    # Remove duplicates\n",
    "    linked_list.kth_element(3)"
   ]
  }
 ],
 "metadata": {
  "kernelspec": {
   "display_name": "Python 3",
   "language": "python",
   "name": "python3"
  },
  "language_info": {
   "codemirror_mode": {
    "name": "ipython",
    "version": 3
   },
   "file_extension": ".py",
   "mimetype": "text/x-python",
   "name": "python",
   "nbconvert_exporter": "python",
   "pygments_lexer": "ipython3",
   "version": "3.9.6"
  }
 },
 "nbformat": 4,
 "nbformat_minor": 2
}
